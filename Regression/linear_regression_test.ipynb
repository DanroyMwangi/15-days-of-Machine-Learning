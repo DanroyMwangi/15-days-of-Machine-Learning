{
 "cells": [
  {
   "cell_type": "markdown",
   "metadata": {},
   "source": [
    "# Linear regression model from scratch\n",
    "\n",
    "Linear regression is one of the foundational algorithms in the world of statistics and machine learning. At its core, it is a method used to discern relationships and predict outcomes. Imagine plotting scattered points on a graph, and then trying to draw a single line that best captures the underlying trend of those points. This line is what linear regression helps us derive. With applications ranging from predicting house prices to analyzing trends in science experiments, its versatility and simplicity have made it an indispensable tool. In this article, we'll delve deep into the mathematical crux of linear regression, understanding the formulae that power it and the optimization techniques employed to ensure accuracy. \n",
    "\n",
    "### Main Concepts\n",
    "It is a statistical model based on $ y = mx + c $  where;\n",
    "<br>m is slope/coeffiecient\n",
    "<br>x is independent variable\n",
    "<br>c is y-intercept/bias\n",
    "\n",
    "Variations of the formula include:\n",
    "<br>$y_{pred}$ or $\\hat{y} = w_{0} + w_{1}x$\n",
    "<br>$y_{pred}$ or $\\hat{y} = mx + b$\n",
    "\n",
    "<br>We want to calculate the optimal values of m and c that will produce the most accurate predicted y based on the x value. This means that we need to minimize the error between the line of best fit and the inidividual points.\n",
    "<br>To do this we need to iterate through the data set and find these values, minimizing the error. We do this by finding the derivatives(delta/change) of the Error with respect to slope and bias\n",
    "\n",
    "### Error Equation\n",
    "We normally use the Mean Squared Error Function which is shown below<br>\n",
    "\n",
    "$ E = {1 \\over n​} \\sum \\limits _{i=0} ^{n} ​(y_{i}​−(mx_{i}​+c))$\n",
    "\n",
    "### Derivative equations\n",
    "Change in slope<br>\n",
    "\n",
    "$ {\\delta E \\over \\delta m} = -{2\\over n} * \\sum \\limits _{i=0} ^{n} x _{i} (y _{i}-(mx_{i} + c)) $\n",
    "<br><br>\n",
    "\n",
    "Change in bias/y-intercept<br>\n",
    "\n",
    "$ {\\delta E \\over \\delta b} = -{2 \\over n} * \\sum \\limits _{i=0} ^{n} (y_{i} -(mx_{i} + c))$\n",
    "\n",
    "### New values of m and b\n",
    "$ m_{new} = m_{current} - lr * {\\delta E \\over \\delta m} $\n",
    "<br><br>\n",
    "\n",
    "$ b_{new} = b_{current} - lr * {\\delta E \\over \\delta b} $\n"
   ]
  },
  {
   "cell_type": "markdown",
   "metadata": {},
   "source": [
    "## Putting the model to the test 👍"
   ]
  },
  {
   "cell_type": "code",
   "execution_count": 35,
   "metadata": {},
   "outputs": [
    {
     "data": {
      "image/png": "[encoded data removed]",
      "text/plain": [
       "<Figure size 640x480 with 1 Axes>"
      ]
     },
     "metadata": {},
     "output_type": "display_data"
    }
   ],
   "source": [
    "from sklearn.datasets import load_iris\n",
    "import pandas as pd\n",
    "import matplotlib.pyplot as plt # plotting and visualizing the subject data\n",
    "import numpy as np\n",
    "\n",
    "data = pd.DataFrame(data=load_iris().data,columns=load_iris().feature_names)\n",
    "data['target'] = load_iris().target\n",
    "\n",
    "plt.scatter(x=data['sepal length (cm)'],y=data['petal length (cm)'])\n",
    "plt.show()\n"
   ]
  },
  {
   "cell_type": "code",
   "execution_count": 36,
   "metadata": {},
   "outputs": [],
   "source": [
    "from sklearn.model_selection import train_test_split\n",
    "\n",
    "X = data['petal length (cm)'].values.reshape(-1,1)\n",
    "y = data['sepal length (cm)'].values.reshape(-1,1)\n",
    "\n",
    "X_train, X_test, y_train, y_test = train_test_split(X, y,test_size=0.5, random_state=42)"
   ]
  },
  {
   "cell_type": "code",
   "execution_count": 37,
   "metadata": {},
   "outputs": [],
   "source": [
    "def mse(y_true,predicted):\n",
    "    return np.mean((y_true - predicted)**2)"
   ]
  },
  {
   "cell_type": "markdown",
   "metadata": {},
   "source": [
    "# Trying out the custom model"
   ]
  },
  {
   "cell_type": "code",
   "execution_count": 38,
   "metadata": {},
   "outputs": [
    {
     "name": "stdout",
     "output_type": "stream",
     "text": [
      "MSE of model from scratch: 0.15719601070095474\n"
     ]
    }
   ],
   "source": [
    "from linear_regression import LinearRegression\n",
    "reg = LinearRegression()\n",
    "\n",
    "reg.fit(X_train, y_train)\n",
    "\n",
    "predicted = reg.predict(X_test)\n",
    "print(f'MSE of model from scratch: {mse(y_test,predicted)}')"
   ]
  },
  {
   "cell_type": "markdown",
   "metadata": {},
   "source": [
    "# Comparing with Linear Reg model by Sklearn"
   ]
  },
  {
   "cell_type": "code",
   "execution_count": 39,
   "metadata": {},
   "outputs": [
    {
     "name": "stdout",
     "output_type": "stream",
     "text": [
      "MSE of sklearn: 0.15745786422932898\n"
     ]
    }
   ],
   "source": [
    "from sklearn.linear_model import LinearRegression\n",
    "\n",
    "linearRegressionModel = LinearRegression()\n",
    "linearRegressionModel.fit(X_train,y_train)\n",
    "\n",
    "# Predicting\n",
    "y_pred = linearRegressionModel.predict(X_test)\n",
    "\n",
    "# Metrics\n",
    "from sklearn.metrics import mean_squared_error\n",
    "mse = mean_squared_error(y_test,y_pred,squared=True)\n",
    "\n",
    "print(f'MSE of sklearn: {mse}')"
   ]
  }
 ],
 "metadata": {
  "kernelspec": {
   "display_name": "base",
   "language": "python",
   "name": "python3"
  },
  "language_info": {
   "codemirror_mode": {
    "name": "ipython",
    "version": 3
   },
   "file_extension": ".py",
   "mimetype": "text/x-python",
   "name": "python",
   "nbconvert_exporter": "python",
   "pygments_lexer": "ipython3",
   "version": "3.10.9"
  },
  "orig_nbformat": 4
 },
 "nbformat": 4,
 "nbformat_minor": 2
}
